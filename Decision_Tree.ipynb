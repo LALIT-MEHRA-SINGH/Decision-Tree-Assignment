{
  "nbformat": 4,
  "nbformat_minor": 0,
  "metadata": {
    "colab": {
      "provenance": []
    },
    "kernelspec": {
      "name": "python3",
      "display_name": "Python 3"
    },
    "language_info": {
      "name": "python"
    }
  },
  "cells": [
    {
      "cell_type": "code",
      "execution_count": 1,
      "metadata": {
        "colab": {
          "base_uri": "https://localhost:8080/"
        },
        "id": "3WTNQZ7jTXC8",
        "outputId": "4dc3510e-cd64-4ae2-fb92-62e2d85bf249"
      },
      "outputs": [
        {
          "output_type": "stream",
          "name": "stdout",
          "text": [
            "Accuracy: 1.0\n"
          ]
        }
      ],
      "source": [
        "#Q1 Train a Decision Tree Classifier on the Iris dataset and print the model accuracy?\n",
        "from sklearn.datasets import load_iris\n",
        "from sklearn.model_selection import train_test_split\n",
        "from sklearn.tree import DecisionTreeClassifier\n",
        "from sklearn.metrics import accuracy_score\n",
        "\n",
        "# Load data\n",
        "iris = load_iris()\n",
        "X, y = iris.data, iris.target\n",
        "\n",
        "# Train-test split\n",
        "X_train, X_test, y_train, y_test = train_test_split(X, y, test_size=0.3, random_state=42)\n",
        "\n",
        "# Train model\n",
        "clf = DecisionTreeClassifier(random_state=42)\n",
        "clf.fit(X_train, y_train)\n",
        "\n",
        "# Predict & Accuracy\n",
        "y_pred = clf.predict(X_test)\n",
        "print(\"Accuracy:\", accuracy_score(y_test, y_pred))"
      ]
    },
    {
      "cell_type": "code",
      "source": [
        "#Q2: Train Decision Tree Classifier using Gini Impurity and print feature importances?\n",
        "clf_gini = DecisionTreeClassifier(criterion=\"gini\", random_state=42)\n",
        "clf_gini.fit(X_train, y_train)\n",
        "\n",
        "print(\"Feature Importances:\", clf_gini.feature_importances_)"
      ],
      "metadata": {
        "colab": {
          "base_uri": "https://localhost:8080/"
        },
        "id": "1drBXmUxV7t-",
        "outputId": "4dd3f109-5c6f-406f-bc0c-bf3909b00e1e"
      },
      "execution_count": 2,
      "outputs": [
        {
          "output_type": "stream",
          "name": "stdout",
          "text": [
            "Feature Importances: [0.         0.01911002 0.89326355 0.08762643]\n"
          ]
        }
      ]
    },
    {
      "cell_type": "code",
      "source": [
        "#Q3: Train Decision Tree Classifier using Entropy and print accuracy?\n",
        "clf_entropy = DecisionTreeClassifier(criterion=\"entropy\", random_state=42)\n",
        "clf_entropy.fit(X_train, y_train)\n",
        "\n",
        "y_pred = clf_entropy.predict(X_test)\n",
        "print(\"Accuracy (Entropy):\", accuracy_score(y_test, y_pred))\n"
      ],
      "metadata": {
        "colab": {
          "base_uri": "https://localhost:8080/"
        },
        "id": "tEHBZxF3WChE",
        "outputId": "14f0deb9-f1d8-4770-a846-a5cbdc04cde9"
      },
      "execution_count": 5,
      "outputs": [
        {
          "output_type": "stream",
          "name": "stdout",
          "text": [
            "Accuracy (Entropy): 0.9777777777777777\n"
          ]
        }
      ]
    },
    {
      "cell_type": "code",
      "source": [
        "#Q4: Train a Decision Tree Regressor on housing dataset and evaluate using MSE?\n",
        "from sklearn.datasets import fetch_california_housing\n",
        "from sklearn.tree import DecisionTreeRegressor\n",
        "from sklearn.metrics import mean_squared_error\n",
        "\n",
        "housing = fetch_california_housing()\n",
        "Xh, yh = housing.data, housing.target\n",
        "\n",
        "Xh_train, Xh_test, yh_train, yh_test = train_test_split(Xh, yh, test_size=0.3, random_state=42)\n",
        "\n",
        "reg = DecisionTreeRegressor(random_state=42)\n",
        "reg.fit(Xh_train, yh_train)\n",
        "\n",
        "yh_pred = reg.predict(Xh_test)\n",
        "print(\"MSE:\", mean_squared_error(yh_test, yh_pred))"
      ],
      "metadata": {
        "colab": {
          "base_uri": "https://localhost:8080/"
        },
        "id": "r5Kq2rGZWKzf",
        "outputId": "bf32409c-94d8-44a0-8ef7-5e4e0c891d11"
      },
      "execution_count": 4,
      "outputs": [
        {
          "output_type": "stream",
          "name": "stdout",
          "text": [
            "MSE: 0.5280096503174904\n"
          ]
        }
      ]
    },
    {
      "cell_type": "code",
      "source": [
        "#Q5: Train Decision Tree Classifier and visualize using Graphviz?\n",
        "from sklearn.tree import export_graphviz\n",
        "import graphviz\n",
        "\n",
        "dot_data = export_graphviz(clf, out_file=None,\n",
        "                           feature_names=iris.feature_names,\n",
        "                           class_names=iris.target_names,\n",
        "                           filled=True, rounded=True)\n",
        "\n",
        "graph = graphviz.Source(dot_data)\n",
        "graph.render(\"decision_tree\")  # saves as PDF\n",
        "graph.view()"
      ],
      "metadata": {
        "colab": {
          "base_uri": "https://localhost:8080/",
          "height": 35
        },
        "id": "FE-ynfbJWOxH",
        "outputId": "f2e18682-e1ff-46f3-97d0-23d37f80ce92"
      },
      "execution_count": 3,
      "outputs": [
        {
          "output_type": "execute_result",
          "data": {
            "text/plain": [
              "'decision_tree.pdf'"
            ],
            "application/vnd.google.colaboratory.intrinsic+json": {
              "type": "string"
            }
          },
          "metadata": {},
          "execution_count": 3
        }
      ]
    },
    {
      "cell_type": "code",
      "source": [
        "#Q6: Train with max_depth=3 and compare with fully grown tree?\n",
        "clf_depth3 = DecisionTreeClassifier(max_depth=3, random_state=42)\n",
        "clf_depth3.fit(X_train, y_train)\n",
        "\n",
        "print(\"Accuracy (max_depth=3):\", accuracy_score(y_test, clf_depth3.predict(X_test)))\n",
        "print(\"Accuracy (full tree):\", accuracy_score(y_test, clf.predict(X_test)))"
      ],
      "metadata": {
        "colab": {
          "base_uri": "https://localhost:8080/"
        },
        "id": "vEQY6X5YWPoe",
        "outputId": "9cdfcf6e-5ed0-4729-ce42-ac8138c1784e"
      },
      "execution_count": 6,
      "outputs": [
        {
          "output_type": "stream",
          "name": "stdout",
          "text": [
            "Accuracy (max_depth=3): 1.0\n",
            "Accuracy (full tree): 1.0\n"
          ]
        }
      ]
    },
    {
      "cell_type": "code",
      "source": [
        "#Q7: Train with min_samples_split=5 and compare with default\n",
        "clf_split5 = DecisionTreeClassifier(min_samples_split=5, random_state=42)\n",
        "clf_split5.fit(X_train, y_train)\n",
        "\n",
        "print(\"Accuracy (min_samples_split=5):\", accuracy_score(y_test, clf_split5.predict(X_test)))\n",
        "print(\"Accuracy (default):\", accuracy_score(y_test, clf.predict(X_test)))"
      ],
      "metadata": {
        "colab": {
          "base_uri": "https://localhost:8080/"
        },
        "id": "a8gPCf8sWsfO",
        "outputId": "b3d049c9-a51f-4956-ef2a-b50894c1258d"
      },
      "execution_count": 7,
      "outputs": [
        {
          "output_type": "stream",
          "name": "stdout",
          "text": [
            "Accuracy (min_samples_split=5): 1.0\n",
            "Accuracy (default): 1.0\n"
          ]
        }
      ]
    },
    {
      "cell_type": "code",
      "source": [
        "#Q8: Apply feature scaling before training Decision Tree\n",
        "from sklearn.preprocessing import StandardScaler\n",
        "\n",
        "scaler = StandardScaler()\n",
        "X_scaled = scaler.fit_transform(X)\n",
        "\n",
        "Xs_train, Xs_test, ys_train, ys_test = train_test_split(X_scaled, y, test_size=0.3, random_state=42)\n",
        "\n",
        "clf_scaled = DecisionTreeClassifier(random_state=42)\n",
        "clf_scaled.fit(Xs_train, ys_train)\n",
        "\n",
        "print(\"Accuracy with scaled data:\", accuracy_score(ys_test, clf_scaled.predict(Xs_test)))\n",
        "print(\"Accuracy without scaling:\", accuracy_score(y_test, clf.predict(X_test)))"
      ],
      "metadata": {
        "colab": {
          "base_uri": "https://localhost:8080/"
        },
        "id": "QPOjwNBvWqKW",
        "outputId": "d3d8ab7a-3166-41ab-aa98-1555c41b35e4"
      },
      "execution_count": 8,
      "outputs": [
        {
          "output_type": "stream",
          "name": "stdout",
          "text": [
            "Accuracy with scaled data: 1.0\n",
            "Accuracy without scaling: 1.0\n"
          ]
        }
      ]
    },
    {
      "cell_type": "code",
      "source": [
        "#Q9: Train using One-vs-Rest (OvR) strategy for multiclass classification\n",
        "from sklearn.multiclass import OneVsRestClassifier\n",
        "\n",
        "ovr_clf = OneVsRestClassifier(DecisionTreeClassifier(random_state=42))\n",
        "ovr_clf.fit(X_train, y_train)\n",
        "\n",
        "print(\"Accuracy (OvR):\", accuracy_score(y_test, ovr_clf.predict(X_test)))"
      ],
      "metadata": {
        "colab": {
          "base_uri": "https://localhost:8080/"
        },
        "id": "eUQ9-4aVWmOW",
        "outputId": "96b847de-0dc4-44d8-af48-7e399d940cf5"
      },
      "execution_count": 9,
      "outputs": [
        {
          "output_type": "stream",
          "name": "stdout",
          "text": [
            "Accuracy (OvR): 1.0\n"
          ]
        }
      ]
    },
    {
      "cell_type": "code",
      "source": [
        "#Q10: Train Decision Tree Classifier and display feature importance scores\n",
        "print(\"Feature importances:\", clf.feature_importances_)"
      ],
      "metadata": {
        "colab": {
          "base_uri": "https://localhost:8080/"
        },
        "id": "9IM5XmT5WkCX",
        "outputId": "5f07e220-938f-43fa-c39a-88bd95763316"
      },
      "execution_count": 10,
      "outputs": [
        {
          "output_type": "stream",
          "name": "stdout",
          "text": [
            "Feature importances: [0.         0.01911002 0.89326355 0.08762643]\n"
          ]
        }
      ]
    },
    {
      "cell_type": "code",
      "source": [
        "#Q11: Train Decision Tree Regressor with max_depth=5 and compare performance\n",
        "reg_depth5 = DecisionTreeRegressor(max_depth=5, random_state=42)\n",
        "reg_depth5.fit(Xh_train, yh_train)\n",
        "\n",
        "print(\"MSE (max_depth=5):\", mean_squared_error(yh_test, reg_depth5.predict(Xh_test)))\n",
        "print(\"MSE (unrestricted):\", mean_squared_error(yh_test, reg.predict(Xh_test)))"
      ],
      "metadata": {
        "colab": {
          "base_uri": "https://localhost:8080/"
        },
        "id": "-TEGcql6W6ne",
        "outputId": "55988da8-a6a6-4611-c6bd-dc2c1ccaefdd"
      },
      "execution_count": 11,
      "outputs": [
        {
          "output_type": "stream",
          "name": "stdout",
          "text": [
            "MSE (max_depth=5): 0.5210801561811793\n",
            "MSE (unrestricted): 0.5280096503174904\n"
          ]
        }
      ]
    },
    {
      "cell_type": "code",
      "source": [
        "#Q12: Train Decision Tree Classifier, apply Cost Complexity Pruning (CCP)\n",
        "path = clf.cost_complexity_pruning_path(X_train, y_train)\n",
        "ccp_alphas = path.ccp_alphas\n",
        "\n",
        "for alpha in ccp_alphas:\n",
        "    clf_pruned = DecisionTreeClassifier(ccp_alpha=alpha, random_state=42)\n",
        "    clf_pruned.fit(X_train, y_train)\n",
        "    print(f\"Alpha={alpha:.4f}, Accuracy={accuracy_score(y_test, clf_pruned.predict(X_test))}\")"
      ],
      "metadata": {
        "colab": {
          "base_uri": "https://localhost:8080/"
        },
        "id": "IWG1BpFmW-l2",
        "outputId": "ca761ed0-e4af-4eb2-8010-ad5b04c82346"
      },
      "execution_count": 12,
      "outputs": [
        {
          "output_type": "stream",
          "name": "stdout",
          "text": [
            "Alpha=0.0000, Accuracy=1.0\n",
            "Alpha=0.0092, Accuracy=1.0\n",
            "Alpha=0.0127, Accuracy=1.0\n",
            "Alpha=0.0127, Accuracy=1.0\n",
            "Alpha=0.0185, Accuracy=1.0\n",
            "Alpha=0.0271, Accuracy=0.9777777777777777\n",
            "Alpha=0.2503, Accuracy=0.7111111111111111\n",
            "Alpha=0.3121, Accuracy=0.28888888888888886\n"
          ]
        }
      ]
    },
    {
      "cell_type": "code",
      "source": [
        "#Q13: Train Decision Tree Classifier and evaluate Precision, Recall, and F1-Score\n",
        "from sklearn.metrics import precision_score, recall_score, f1_score\n",
        "\n",
        "y_pred = clf.predict(X_test)\n",
        "\n",
        "print(\"Precision:\", precision_score(y_test, y_pred, average='macro'))\n",
        "print(\"Recall:\", recall_score(y_test, y_pred, average='macro'))\n",
        "print(\"F1 Score:\", f1_score(y_test, y_pred, average='macro'))"
      ],
      "metadata": {
        "colab": {
          "base_uri": "https://localhost:8080/"
        },
        "id": "nxOOu0w-XAFu",
        "outputId": "fa7710c5-8d3b-490b-d201-79ab47979c45"
      },
      "execution_count": 13,
      "outputs": [
        {
          "output_type": "stream",
          "name": "stdout",
          "text": [
            "Precision: 1.0\n",
            "Recall: 1.0\n",
            "F1 Score: 1.0\n"
          ]
        }
      ]
    },
    {
      "cell_type": "code",
      "source": [
        "#Q14: Visualize confusion matrix using seaborn\n",
        "from sklearn.metrics import confusion_matrix\n",
        "import seaborn as sns\n",
        "import matplotlib.pyplot as plt\n",
        "\n",
        "cm = confusion_matrix(y_test, y_pred)\n",
        "\n",
        "sns.heatmap(cm, annot=True, cmap=\"Blues\",\n",
        "            xticklabels=iris.target_names,\n",
        "            yticklabels=iris.target_names)\n",
        "plt.xlabel(\"Predicted\")\n",
        "plt.ylabel(\"Actual\")\n",
        "plt.show()"
      ],
      "metadata": {
        "colab": {
          "base_uri": "https://localhost:8080/",
          "height": 449
        },
        "id": "2Ypj9HzcXBzO",
        "outputId": "49ced739-f942-4126-8c93-36e995db89cb"
      },
      "execution_count": 14,
      "outputs": [
        {
          "output_type": "display_data",
          "data": {
            "text/plain": [
              "<Figure size 640x480 with 2 Axes>"
            ],
            "image/png": "[encoded data removed]"
          },
          "metadata": {}
        }
      ]
    },
    {
      "cell_type": "code",
      "source": [
        "#Q15: Use GridSearchCV to find optimal max_depth and min_samples_split\n",
        "from sklearn.model_selection import GridSearchCV\n",
        "\n",
        "param_grid = {\n",
        "    'max_depth': [3, 5, None],\n",
        "    'min_samples_split': [2, 5, 10]\n",
        "}\n",
        "\n",
        "grid = GridSearchCV(DecisionTreeClassifier(random_state=42), param_grid, cv=5)\n",
        "grid.fit(X_train, y_train)\n",
        "\n",
        "print(\"Best Parameters:\", grid.best_params_)\n",
        "print(\"Best Accuracy:\", grid.best_score_)"
      ],
      "metadata": {
        "colab": {
          "base_uri": "https://localhost:8080/"
        },
        "id": "TcRXUr4tWwAm",
        "outputId": "d6dc4f27-c6e9-4328-d54f-d4a9194b066e"
      },
      "execution_count": 15,
      "outputs": [
        {
          "output_type": "stream",
          "name": "stdout",
          "text": [
            "Best Parameters: {'max_depth': 5, 'min_samples_split': 10}\n",
            "Best Accuracy: 0.9428571428571428\n"
          ]
        }
      ]
    }
  ]
}